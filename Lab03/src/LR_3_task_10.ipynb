{
 "cells": [
  {
   "cell_type": "code",
   "execution_count": 2,
   "metadata": {},
   "outputs": [
    {
     "name": "stdout",
     "output_type": "stream",
     "text": [
      "[*********************100%%**********************]  1 of 1 completed"
     ]
    },
    {
     "name": "stderr",
     "output_type": "stream",
     "text": [
      "\n",
      "1 Failed download:\n",
      "['TOT']: Exception('%ticker%: No timezone found, symbol may be delisted')\n"
     ]
    },
    {
     "name": "stdout",
     "output_type": "stream",
     "text": [
      "\n",
      "[*********************100%%**********************]  1 of 1 completed\n",
      "[*********************100%%**********************]  1 of 1 completed\n",
      "[*********************100%%**********************]  1 of 1 completed\n",
      "[*********************100%%**********************]  1 of 1 completed\n",
      "[*********************100%%**********************]  1 of 1 completed\n",
      "[*********************100%%**********************]  1 of 1 completed\n",
      "[*********************100%%**********************]  1 of 1 completed\n",
      "[*********************100%%**********************]  1 of 1 completed\n",
      "[*********************100%%**********************]  1 of 1 completed"
     ]
    },
    {
     "name": "stderr",
     "output_type": "stream",
     "text": [
      "\n",
      "1 Failed download:\n",
      "['CVC']: Exception('%ticker%: No price data found, symbol may be delisted (1d 2003-07-03 -> 2007-05-04)')\n"
     ]
    },
    {
     "name": "stdout",
     "output_type": "stream",
     "text": [
      "\n",
      "[*********************100%%**********************]  1 of 1 completed"
     ]
    },
    {
     "name": "stderr",
     "output_type": "stream",
     "text": [
      "\n",
      "1 Failed download:\n",
      "['YHOO']: Exception('%ticker%: No timezone found, symbol may be delisted')\n"
     ]
    },
    {
     "name": "stdout",
     "output_type": "stream",
     "text": [
      "\n",
      "[*********************100%%**********************]  1 of 1 completed"
     ]
    },
    {
     "name": "stderr",
     "output_type": "stream",
     "text": [
      "\n",
      "1 Failed download:\n",
      "['DELL']: Exception(\"%ticker%: Data doesn't exist for startDate = 1057204800, endDate = 1178251200\")\n"
     ]
    },
    {
     "name": "stdout",
     "output_type": "stream",
     "text": [
      "\n",
      "[*********************100%%**********************]  1 of 1 completed\n",
      "[*********************100%%**********************]  1 of 1 completed\n",
      "[*********************100%%**********************]  1 of 1 completed\n",
      "[*********************100%%**********************]  1 of 1 completed"
     ]
    },
    {
     "name": "stderr",
     "output_type": "stream",
     "text": [
      "\n",
      "1 Failed download:\n",
      "['CAJ']: Exception('%ticker%: No timezone found, symbol may be delisted')\n"
     ]
    },
    {
     "name": "stdout",
     "output_type": "stream",
     "text": [
      "\n",
      "[*********************100%%**********************]  1 of 1 completed"
     ]
    },
    {
     "name": "stderr",
     "output_type": "stream",
     "text": [
      "\n",
      "1 Failed download:\n",
      "['MTU']: Exception('%ticker%: No price data found, symbol may be delisted (1d 2003-07-03 -> 2007-05-04)')\n"
     ]
    },
    {
     "name": "stdout",
     "output_type": "stream",
     "text": [
      "\n",
      "[*********************100%%**********************]  1 of 1 completed"
     ]
    },
    {
     "name": "stderr",
     "output_type": "stream",
     "text": [
      "\n",
      "1 Failed download:\n",
      "['SNE']: Exception('%ticker%: No timezone found, symbol may be delisted')\n"
     ]
    },
    {
     "name": "stdout",
     "output_type": "stream",
     "text": [
      "\n",
      "[*********************100%%**********************]  1 of 1 completed\n",
      "[*********************100%%**********************]  1 of 1 completed\n",
      "[*********************100%%**********************]  1 of 1 completed"
     ]
    },
    {
     "name": "stderr",
     "output_type": "stream",
     "text": [
      "\n",
      "1 Failed download:\n",
      "['NAV']: Exception('%ticker%: No timezone found, symbol may be delisted')\n"
     ]
    },
    {
     "name": "stdout",
     "output_type": "stream",
     "text": [
      "\n",
      "[*********************100%%**********************]  1 of 1 completed\n",
      "[*********************100%%**********************]  1 of 1 completed\n",
      "[*********************100%%**********************]  1 of 1 completed\n",
      "[*********************100%%**********************]  1 of 1 completed\n",
      "[*********************100%%**********************]  1 of 1 completed\n",
      "[*********************100%%**********************]  1 of 1 completed\n",
      "[*********************100%%**********************]  1 of 1 completed\n",
      "[*********************100%%**********************]  1 of 1 completed\n",
      "[*********************100%%**********************]  1 of 1 completed"
     ]
    },
    {
     "name": "stderr",
     "output_type": "stream",
     "text": [
      "\n",
      "1 Failed download:\n",
      "['UN']: Exception('%ticker%: No timezone found, symbol may be delisted')\n"
     ]
    },
    {
     "name": "stdout",
     "output_type": "stream",
     "text": [
      "\n",
      "[*********************100%%**********************]  1 of 1 completed\n",
      "[*********************100%%**********************]  1 of 1 completed\n",
      "[*********************100%%**********************]  1 of 1 completed\n",
      "[*********************100%%**********************]  1 of 1 completed\n",
      "[*********************100%%**********************]  1 of 1 completed\n",
      "[*********************100%%**********************]  1 of 1 completed\n",
      "[*********************100%%**********************]  1 of 1 completed\n",
      "[*********************100%%**********************]  1 of 1 completed\n",
      "[*********************100%%**********************]  1 of 1 completed\n",
      "[*********************100%%**********************]  1 of 1 completed\n",
      "[*********************100%%**********************]  1 of 1 completed\n",
      "[*********************100%%**********************]  1 of 1 completed\n",
      "[*********************100%%**********************]  1 of 1 completed\n",
      "[*********************100%%**********************]  1 of 1 completed\n",
      "[*********************100%%**********************]  1 of 1 completed\n",
      "[*********************100%%**********************]  1 of 1 completed\n",
      "[*********************100%%**********************]  1 of 1 completed\n",
      "[*********************100%%**********************]  1 of 1 completed\n",
      "[*********************100%%**********************]  1 of 1 completed\n",
      "[*********************100%%**********************]  1 of 1 completed\n",
      "[*********************100%%**********************]  1 of 1 completed\n",
      "[*********************100%%**********************]  1 of 1 completed\n",
      "[*********************100%%**********************]  1 of 1 completed\n",
      "[*********************100%%**********************]  1 of 1 completed\n",
      "[*********************100%%**********************]  1 of 1 completed\n",
      "[*********************100%%**********************]  1 of 1 completed\n",
      "[*********************100%%**********************]  1 of 1 completed"
     ]
    },
    {
     "name": "stderr",
     "output_type": "stream",
     "text": [
      "\n",
      "1 Failed download:\n",
      "['RTN']: Exception('%ticker%: No timezone found, symbol may be delisted')\n"
     ]
    },
    {
     "name": "stdout",
     "output_type": "stream",
     "text": [
      "\n",
      "[*********************100%%**********************]  1 of 1 completed\n",
      "[*********************100%%**********************]  1 of 1 completed\n",
      "[*********************100%%**********************]  1 of 1 completed\n",
      "\n",
      "Clustering of stocks based on difference in opening and closing quotes:\n",
      "\n",
      "Cluster 1 ==> Total, Exxon, Chevron, ConocoPhillips\n",
      "Cluster 2 ==> Yahoo, Dell, HP, Toyota, Sony, Procter Gamble, Colgate-Palmolive, Home Depot\n",
      "Cluster 3 ==> Honda\n",
      "Cluster 4 ==> Canon, Ford, Navistar, Boeing, Coca Cola, Xerox\n",
      "Cluster 5 ==> IBM, Time Warner, Northrop Grumman, Mc Donalds, Pepsi, Kraft Foods, Kellogg, Unilever, Marriott, JPMorgan Chase, American express, Goldman Sachs, Lookheed Martin, GlaxoSmithKline\n",
      "Cluster 6 ==> Valero Energy, Microsoft, Comcast, Cablevision, Mitsubishi, 3M, General Electrics, Wells Fargo\n",
      "Cluster 7 ==> Amazon, AIG, Wal-Mart\n",
      "Cluster 8 ==> Bank of America, Walgreen\n",
      "Cluster 9 ==> Apple, SAP, Cisco, Texas instruments\n"
     ]
    }
   ],
   "source": [
    "import datetime\n",
    "import json\n",
    "import numpy as np\n",
    "from sklearn import covariance, cluster\n",
    "import yfinance as yf\n",
    "\n",
    "# Вхідний файл із символічними позначеннями компаній\n",
    "input_file = \"company_symbol_mapping.json\"\n",
    "\n",
    "# Завантаження прив'язок символів компаній до їх повних назв\n",
    "with open(input_file, \"r\") as f:\n",
    "    company_symbols_map = json.loads(f.read())\n",
    "\n",
    "symbols, names = np.array(list(company_symbols_map.items())).T\n",
    "\n",
    "# Визначення архівних даних котирувань\n",
    "start_date = \"2003-07-03\"\n",
    "end_date = \"2007-05-04\"\n",
    "\n",
    "# Завантаження архівних даних котирувань\n",
    "quotes = []\n",
    "valid_symbols = []\n",
    "for symbol in symbols:\n",
    "    try:\n",
    "        data = yf.download(symbol, start=start_date, end=end_date)\n",
    "        if not data.empty:\n",
    "            quotes.append(data)\n",
    "            valid_symbols.append(symbol)\n",
    "    except Exception as e:\n",
    "        print(f\"Failed to download data for {symbol}: {e}\")\n",
    "\n",
    "# Перевірка чи є валідні дані\n",
    "if not quotes:\n",
    "    print(\n",
    "        \"No valid data available for any symbol. Check your symbol mapping and data availability.\"\n",
    "    )\n",
    "else:\n",
    "    # Оновлення символів на дійсні\n",
    "    symbols = valid_symbols  \n",
    "\n",
    "    # Вилучення котирувань, що відповідають відкриттю та закриттю біржі\n",
    "    opening_quotes = np.array([quote[\"Open\"].values for quote in quotes]).T\n",
    "    closing_quotes = np.array([quote[\"Close\"].values for quote in quotes]).T\n",
    "\n",
    "    # Обчислення різниці між двома видами котирувань\n",
    "    quotes_diff = closing_quotes - opening_quotes\n",
    "\n",
    "    # Нормалізація даних\n",
    "    X = quotes_diff.copy()\n",
    "    X /= X.std(axis=0)\n",
    "\n",
    "    # Створення моделі графа\n",
    "    edge_model = covariance.GraphicalLassoCV()\n",
    "\n",
    "    # Навчання моделі\n",
    "    with np.errstate(invalid=\"ignore\"):\n",
    "        edge_model.fit(X)\n",
    "\n",
    "    # Створення моделі кластеризації на основі поширення подібності\n",
    "    _, labels = cluster.affinity_propagation(edge_model.covariance_)\n",
    "    num_labels = labels.max()\n",
    "\n",
    "    # Виведення результатів\n",
    "    print(\"\\nClustering of stocks based on difference in opening and closing quotes:\\n\")\n",
    "    for i in range(num_labels + 1):\n",
    "        cluster_indices = np.where(labels == i)[0]\n",
    "        cluster_names = names[cluster_indices]\n",
    "        if len(cluster_names) > 0:\n",
    "            print(\"Cluster\", i + 1, \"==>\", \", \".join(cluster_names))\n",
    "\n"
   ]
  }
 ],
 "metadata": {
  "kernelspec": {
   "display_name": ".venv",
   "language": "python",
   "name": "python3"
  },
  "language_info": {
   "codemirror_mode": {
    "name": "ipython",
    "version": 3
   },
   "file_extension": ".py",
   "mimetype": "text/x-python",
   "name": "python",
   "nbconvert_exporter": "python",
   "pygments_lexer": "ipython3",
   "version": "3.11.5"
  }
 },
 "nbformat": 4,
 "nbformat_minor": 2
}
