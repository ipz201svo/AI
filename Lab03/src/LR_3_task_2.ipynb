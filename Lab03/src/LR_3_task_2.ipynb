{
 "cells": [
  {
   "cell_type": "code",
   "execution_count": 1,
   "metadata": {},
   "outputs": [],
   "source": [
    "import pickle\n",
    "import numpy as np\n",
    "from sklearn import linear_model\n",
    "import sklearn.metrics as sm\n",
    "import matplotlib.pyplot as plt"
   ]
  },
  {
   "cell_type": "code",
   "execution_count": 2,
   "metadata": {},
   "outputs": [],
   "source": [
    "# Вхідний файл, який містить дані\n",
    "input_file = \"data_regr_2.txt\"\n",
    "# Завантаження даних\n",
    "data = np.loadtxt(input_file, delimiter=\",\")\n",
    "X, y = data[:, :-1], data[:, -1]"
   ]
  },
  {
   "cell_type": "code",
   "execution_count": 3,
   "metadata": {},
   "outputs": [],
   "source": [
    "# Розбивка даних на навчальний та тестовий набори\n",
    "num_training = int(0.8 * len(X))\n",
    "num_test = len(X) - num_training\n",
    "\n",
    "# Тренувальні дані\n",
    "X_train, y_train = X[:num_training], y[:num_training]\n",
    "# Тестові дані\n",
    "X_test, y_test = X[num_training:], y[num_training:]"
   ]
  },
  {
   "cell_type": "code",
   "execution_count": 4,
   "metadata": {},
   "outputs": [
    {
     "data": {
      "image/png": "[encoded data removed]",
      "text/plain": [
       "<Figure size 640x480 with 1 Axes>"
      ]
     },
     "metadata": {},
     "output_type": "display_data"
    }
   ],
   "source": [
    "# Створення об'єкта лінійного регресора\n",
    "regressor = linear_model.LinearRegression()\n",
    "regressor.fit(X_train, y_train)\n",
    "# Прогнозування результату\n",
    "y_test_pred = regressor.predict(X_test)\n",
    "\n",
    "# Побудова графіка\n",
    "plt.scatter(X_test, y_test, color=\"green\")\n",
    "plt.plot(X_test, y_test_pred, color=\"yellow\", linewidth=4)\n",
    "plt.xticks(())\n",
    "plt.yticks(())\n",
    "plt.show()"
   ]
  },
  {
   "cell_type": "code",
   "execution_count": 5,
   "metadata": {},
   "outputs": [
    {
     "name": "stdout",
     "output_type": "stream",
     "text": [
      "Linear regressor performance:\n",
      "Mean absolute error = 2.42\n",
      "Mean squared error = 9.02\n",
      "Median absolute error = 2.14\n",
      "Explain variance score = -0.15\n",
      "R2 score = -1.61\n"
     ]
    }
   ],
   "source": [
    "print(\"Linear regressor performance:\")\n",
    "print(\"Mean absolute error =\", round(sm.mean_absolute_error(y_test, y_test_pred), 2))\n",
    "print(\"Mean squared error =\", round(sm.mean_squared_error(y_test, y_test_pred), 2))\n",
    "print(\n",
    "    \"Median absolute error =\", round(sm.median_absolute_error(y_test, y_test_pred), 2)\n",
    ")\n",
    "print(\n",
    "    \"Explain variance score =\",\n",
    "    round(sm.explained_variance_score(y_test, y_test_pred), 2),\n",
    ")\n",
    "print(\"R2 score =\", round(sm.r2_score(y_test, y_test_pred), 2))"
   ]
  }
 ],
 "metadata": {
  "kernelspec": {
   "display_name": ".venv",
   "language": "python",
   "name": "python3"
  },
  "language_info": {
   "codemirror_mode": {
    "name": "ipython",
    "version": 3
   },
   "file_extension": ".py",
   "mimetype": "text/x-python",
   "name": "python",
   "nbconvert_exporter": "python",
   "pygments_lexer": "ipython3",
   "version": "3.11.5"
  }
 },
 "nbformat": 4,
 "nbformat_minor": 2
}
