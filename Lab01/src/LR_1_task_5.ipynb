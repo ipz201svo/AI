{
 "cells": [
  {
   "cell_type": "code",
   "execution_count": 1,
   "metadata": {},
   "outputs": [
    {
     "data": {
      "text/html": [
       "<div>\n",
       "<style scoped>\n",
       "    .dataframe tbody tr th:only-of-type {\n",
       "        vertical-align: middle;\n",
       "    }\n",
       "\n",
       "    .dataframe tbody tr th {\n",
       "        vertical-align: top;\n",
       "    }\n",
       "\n",
       "    .dataframe thead th {\n",
       "        text-align: right;\n",
       "    }\n",
       "</style>\n",
       "<table border=\"1\" class=\"dataframe\">\n",
       "  <thead>\n",
       "    <tr style=\"text-align: right;\">\n",
       "      <th></th>\n",
       "      <th>actual_label</th>\n",
       "      <th>model_RF</th>\n",
       "      <th>model_LR</th>\n",
       "      <th>predicted_RF</th>\n",
       "      <th>predicted_LR</th>\n",
       "    </tr>\n",
       "  </thead>\n",
       "  <tbody>\n",
       "    <tr>\n",
       "      <th>0</th>\n",
       "      <td>1</td>\n",
       "      <td>0.639816</td>\n",
       "      <td>0.531904</td>\n",
       "      <td>1</td>\n",
       "      <td>1</td>\n",
       "    </tr>\n",
       "    <tr>\n",
       "      <th>1</th>\n",
       "      <td>0</td>\n",
       "      <td>0.490993</td>\n",
       "      <td>0.414496</td>\n",
       "      <td>0</td>\n",
       "      <td>0</td>\n",
       "    </tr>\n",
       "    <tr>\n",
       "      <th>2</th>\n",
       "      <td>1</td>\n",
       "      <td>0.623815</td>\n",
       "      <td>0.569883</td>\n",
       "      <td>1</td>\n",
       "      <td>1</td>\n",
       "    </tr>\n",
       "    <tr>\n",
       "      <th>3</th>\n",
       "      <td>1</td>\n",
       "      <td>0.506616</td>\n",
       "      <td>0.443674</td>\n",
       "      <td>1</td>\n",
       "      <td>0</td>\n",
       "    </tr>\n",
       "    <tr>\n",
       "      <th>4</th>\n",
       "      <td>0</td>\n",
       "      <td>0.418302</td>\n",
       "      <td>0.369532</td>\n",
       "      <td>0</td>\n",
       "      <td>0</td>\n",
       "    </tr>\n",
       "  </tbody>\n",
       "</table>\n",
       "</div>"
      ],
      "text/plain": [
       "   actual_label  model_RF  model_LR  predicted_RF  predicted_LR\n",
       "0             1  0.639816  0.531904             1             1\n",
       "1             0  0.490993  0.414496             0             0\n",
       "2             1  0.623815  0.569883             1             1\n",
       "3             1  0.506616  0.443674             1             0\n",
       "4             0  0.418302  0.369532             0             0"
      ]
     },
     "execution_count": 1,
     "metadata": {},
     "output_type": "execute_result"
    }
   ],
   "source": [
    "import pandas as pd\n",
    "\n",
    "df = pd.read_csv(\"data_metrics.csv\")\n",
    "df.head()\n",
    "\n",
    "thresh = 0.5\n",
    "df[\"predicted_RF\"] = (df.model_RF >= 0.5).astype(\"int\")\n",
    "df[\"predicted_LR\"] = (df.model_LR >= 0.5).astype(\"int\")\n",
    "df.head()"
   ]
  },
  {
   "cell_type": "code",
   "execution_count": 2,
   "metadata": {},
   "outputs": [
    {
     "data": {
      "text/plain": [
       "array([[5519, 2360],\n",
       "       [2832, 5047]], dtype=int64)"
      ]
     },
     "execution_count": 2,
     "metadata": {},
     "output_type": "execute_result"
    }
   ],
   "source": [
    "from sklearn.metrics import confusion_matrix\n",
    "\n",
    "confusion_matrix(df.actual_label.values, df.predicted_RF.values)"
   ]
  },
  {
   "cell_type": "code",
   "execution_count": 3,
   "metadata": {},
   "outputs": [],
   "source": [
    "def find_TP(y_true, y_pred):\n",
    "    # counts the number of true positives (y_true = 1, y_pred = 1)\n",
    "    return sum((y_true == 1) & (y_pred == 1))\n",
    "\n",
    "\n",
    "def find_FN(y_true, y_pred):\n",
    "    # counts the number of false negatives (y_true = 1, y_pred = 0)\n",
    "    return sum((y_true == 1) & (y_pred == 0))\n",
    "\n",
    "\n",
    "def find_FP(y_true, y_pred):\n",
    "    # counts the number of false positives (y_true = 0, y_pred = 1)\n",
    "    return sum((y_true == 0) & (y_pred == 1))\n",
    "\n",
    "\n",
    "def find_TN(y_true, y_pred):\n",
    "    # counts the number of true negatives (y_true = 0, y_pred = 0)\n",
    "    return sum((y_true == 0) & (y_pred == 0))"
   ]
  },
  {
   "cell_type": "code",
   "execution_count": 4,
   "metadata": {},
   "outputs": [
    {
     "name": "stdout",
     "output_type": "stream",
     "text": [
      "TP: 5047\n",
      "FN: 2832\n",
      "FP: 2360\n",
      "TN: 5519\n"
     ]
    }
   ],
   "source": [
    "print(\"TP:\", find_TP(df.actual_label.values, df.predicted_RF.values))\n",
    "print(\"FN:\", find_FN(df.actual_label.values, df.predicted_RF.values))\n",
    "print(\"FP:\", find_FP(df.actual_label.values, df.predicted_RF.values))\n",
    "print(\"TN:\", find_TN(df.actual_label.values, df.predicted_RF.values))"
   ]
  },
  {
   "cell_type": "code",
   "execution_count": 5,
   "metadata": {},
   "outputs": [],
   "source": [
    "import numpy as np\n",
    "\n",
    "\n",
    "def find_conf_matrix_values(y_true, y_pred):\n",
    "    # calculate TP, FN, FP, TN\n",
    "    TP = find_TP(y_true, y_pred)\n",
    "    FN = find_FN(y_true, y_pred)\n",
    "    FP = find_FP(y_true, y_pred)\n",
    "    TN = find_TN(y_true, y_pred)\n",
    "    return TP, FN, FP, TN\n",
    "\n",
    "\n",
    "def skakovskyi_confusion_matrix(y_true, y_pred):\n",
    "    TP, FN, FP, TN = find_conf_matrix_values(y_true, y_pred)\n",
    "    return np.array([[TN, FP], [FN, TP]])"
   ]
  },
  {
   "cell_type": "code",
   "execution_count": 6,
   "metadata": {},
   "outputs": [],
   "source": [
    "assert np.array_equal(\n",
    "    skakovskyi_confusion_matrix(df.actual_label.values, df.predicted_RF.values),\n",
    "    confusion_matrix(df.actual_label.values, df.predicted_RF.values),\n",
    "), \"my_confusion_matrix() is not correct for RF\"\n",
    "\n",
    "assert np.array_equal(\n",
    "    skakovskyi_confusion_matrix(df.actual_label.values, df.predicted_LR.values),\n",
    "    confusion_matrix(df.actual_label.values, df.predicted_LR.values),\n",
    "), \"my_confusion_matrix() is not correct for LR\""
   ]
  },
  {
   "cell_type": "code",
   "execution_count": 7,
   "metadata": {},
   "outputs": [
    {
     "data": {
      "text/plain": [
       "0.6705165630156111"
      ]
     },
     "execution_count": 7,
     "metadata": {},
     "output_type": "execute_result"
    }
   ],
   "source": [
    "from sklearn.metrics import accuracy_score\n",
    "\n",
    "\n",
    "accuracy_score(df.actual_label.values, df.predicted_RF.values)"
   ]
  },
  {
   "cell_type": "code",
   "execution_count": 8,
   "metadata": {},
   "outputs": [
    {
     "name": "stdout",
     "output_type": "stream",
     "text": [
      "Accuracy RF: 0.671\n",
      "Accuracy LR: 0.616\n"
     ]
    }
   ],
   "source": [
    "def skakovskyi_accuracy_score(y_true, y_pred):\n",
    "    # calculates the fraction of samples\n",
    "    TP,FN,FP,TN = find_conf_matrix_values(y_true,y_pred)\n",
    "    return (TP + TN) / (TP + FN + FP + TN)\n",
    "\n",
    "assert skakovskyi_accuracy_score(df.actual_label.values, df.predicted_RF.values) == accuracy_score(df.actual_label.values, df.predicted_RF.values), 'my_accuracy_score failed on RF'\n",
    "assert skakovskyi_accuracy_score(df.actual_label.values, df.predicted_LR.values) == accuracy_score(df.actual_label.values, df.predicted_LR.values), 'my_accuracy_score failed on LR'\n",
    "\n",
    "print('Accuracy RF: %.3f'%(skakovskyi_accuracy_score(df.actual_label.values, df.predicted_RF.values)))\n",
    "print('Accuracy LR: %.3f'%(skakovskyi_accuracy_score(df.actual_label.values, df.predicted_LR.values)))"
   ]
  },
  {
   "cell_type": "code",
   "execution_count": 9,
   "metadata": {},
   "outputs": [
    {
     "data": {
      "text/plain": [
       "0.6405635232897576"
      ]
     },
     "execution_count": 9,
     "metadata": {},
     "output_type": "execute_result"
    }
   ],
   "source": [
    "from sklearn.metrics import recall_score\n",
    "\n",
    "recall_score(df.actual_label.values, df.predicted_RF.values)"
   ]
  },
  {
   "cell_type": "code",
   "execution_count": 10,
   "metadata": {},
   "outputs": [
    {
     "name": "stdout",
     "output_type": "stream",
     "text": [
      "Recall RF: 0.641\n",
      "Recall LR: 0.543\n"
     ]
    }
   ],
   "source": [
    "def skakovskyi_recall_score(y_true, y_pred):\n",
    "    # calculates the fraction of positive samples predicted correctly\n",
    "    TP, FN, FP, TN = find_conf_matrix_values(y_true, y_pred)\n",
    "    return TP / (TP + FN)\n",
    "\n",
    "\n",
    "assert skakovskyi_recall_score(\n",
    "    df.actual_label.values, df.predicted_RF.values\n",
    ") == recall_score(\n",
    "    df.actual_label.values, df.predicted_RF.values\n",
    "), \"my_accuracy_score failed on RF\"\n",
    "assert skakovskyi_recall_score(\n",
    "    df.actual_label.values, df.predicted_LR.values\n",
    ") == recall_score(\n",
    "    df.actual_label.values, df.predicted_LR.values\n",
    "), \"my_accuracy_score failed on LR\"\n",
    "\n",
    "print(\n",
    "    \"Recall RF: %.3f\"\n",
    "    % (skakovskyi_recall_score(df.actual_label.values, df.predicted_RF.values))\n",
    ")\n",
    "print(\n",
    "    \"Recall LR: %.3f\"\n",
    "    % (skakovskyi_recall_score(df.actual_label.values, df.predicted_LR.values))\n",
    ")"
   ]
  },
  {
   "cell_type": "code",
   "execution_count": 11,
   "metadata": {},
   "outputs": [
    {
     "data": {
      "text/plain": [
       "0.681382476036182"
      ]
     },
     "execution_count": 11,
     "metadata": {},
     "output_type": "execute_result"
    }
   ],
   "source": [
    "from sklearn.metrics import precision_score\n",
    "\n",
    "\n",
    "precision_score(df.actual_label.values, df.predicted_RF.values)"
   ]
  },
  {
   "cell_type": "code",
   "execution_count": 12,
   "metadata": {},
   "outputs": [
    {
     "name": "stdout",
     "output_type": "stream",
     "text": [
      "Precision RF: 0.681\n",
      "Precision LR: 0.636\n"
     ]
    }
   ],
   "source": [
    "def skakovskyi_precision_score(y_true, y_pred):\n",
    "    # calculates the fraction of predicted positives samples that are actually positive\n",
    "    TP, FN, FP, TN = find_conf_matrix_values(y_true, y_pred)\n",
    "    return TP / (TP + FP)\n",
    "\n",
    "\n",
    "assert skakovskyi_precision_score(\n",
    "    df.actual_label.values, df.predicted_RF.values\n",
    ") == precision_score(\n",
    "    df.actual_label.values, df.predicted_RF.values\n",
    "), \"my_accuracy_score failed on RF\"\n",
    "\n",
    "\n",
    "assert skakovskyi_precision_score(\n",
    "    df.actual_label.values, df.predicted_LR.values\n",
    ") == precision_score(\n",
    "    df.actual_label.values, df.predicted_LR.values\n",
    "), \"my_accuracy_score failed on LR\"\n",
    "\n",
    "print(\n",
    "    \"Precision RF: %.3f\"\n",
    "    % (skakovskyi_precision_score(df.actual_label.values, df.predicted_RF.values))\n",
    ")\n",
    "print(\n",
    "    \"Precision LR: %.3f\"\n",
    "    % (skakovskyi_precision_score(df.actual_label.values, df.predicted_LR.values))\n",
    ")"
   ]
  },
  {
   "cell_type": "code",
   "execution_count": 13,
   "metadata": {},
   "outputs": [
    {
     "data": {
      "text/plain": [
       "0.660342797330891"
      ]
     },
     "execution_count": 13,
     "metadata": {},
     "output_type": "execute_result"
    }
   ],
   "source": [
    "from sklearn.metrics import f1_score\n",
    "\n",
    "\n",
    "f1_score(df.actual_label.values, df.predicted_RF.values)"
   ]
  },
  {
   "cell_type": "code",
   "execution_count": 14,
   "metadata": {},
   "outputs": [
    {
     "name": "stdout",
     "output_type": "stream",
     "text": [
      "F1 RF: 0.660\n",
      "F1 LR: 0.586\n"
     ]
    }
   ],
   "source": [
    "def skakovskyi_f1_score(y_true, y_pred):\n",
    "    # calculates the F1 score\n",
    "    recall = skakovskyi_recall_score(y_true, y_pred)\n",
    "    precision = skakovskyi_precision_score(y_true, y_pred)\n",
    "    return 2 * (precision * recall) / (precision + recall)\n",
    "\n",
    "\n",
    "assert skakovskyi_f1_score(df.actual_label.values, df.predicted_RF.values) == f1_score(\n",
    "    df.actual_label.values, df.predicted_RF.values\n",
    "), \"my_accuracy_score failed on RF\"\n",
    "assert skakovskyi_f1_score(df.actual_label.values, df.predicted_LR.values) == f1_score(\n",
    "    df.actual_label.values, df.predicted_LR.values\n",
    "), \"my_accuracy_score failed on LR\"\n",
    "\n",
    "print(\n",
    "    \"F1 RF: %.3f\"\n",
    "    % (skakovskyi_f1_score(df.actual_label.values, df.predicted_RF.values))\n",
    ")\n",
    "print(\n",
    "    \"F1 LR: %.3f\"\n",
    "    % (skakovskyi_f1_score(df.actual_label.values, df.predicted_LR.values))\n",
    ")"
   ]
  },
  {
   "cell_type": "code",
   "execution_count": 15,
   "metadata": {},
   "outputs": [
    {
     "name": "stdout",
     "output_type": "stream",
     "text": [
      "scores with threshold = 0.5\n",
      "Accuracy RF: 0.671\n",
      "Recall RF: 0.641\n",
      "Precision RF: 0.681\n",
      "F1 RF: 0.660\n",
      "\n",
      "scores with threshold = 0.25\n",
      "Accuracy RF: 0.502\n",
      "Recall RF: 1.000\n",
      "Precision RF: 0.501\n",
      "F1 RF: 0.668\n"
     ]
    }
   ],
   "source": [
    "print(\"scores with threshold = 0.5\")\n",
    "\n",
    "print(\n",
    "    \"Accuracy RF: %.3f\"\n",
    "    % (skakovskyi_accuracy_score(df.actual_label.values, df.predicted_RF.values))\n",
    ")\n",
    "print(\n",
    "    \"Recall RF: %.3f\"\n",
    "    % (skakovskyi_recall_score(df.actual_label.values, df.predicted_RF.values))\n",
    ")\n",
    "print(\n",
    "    \"Precision RF: %.3f\"\n",
    "    % (skakovskyi_precision_score(df.actual_label.values, df.predicted_RF.values))\n",
    ")\n",
    "print(\"F1 RF: %.3f\" % (skakovskyi_f1_score(df.actual_label.values, df.predicted_RF.values)))\n",
    "print(\"\")\n",
    "print(\"scores with threshold = 0.25\")\n",
    "print(\n",
    "    \"Accuracy RF: %.3f\"\n",
    "    % (\n",
    "        skakovskyi_accuracy_score(\n",
    "            df.actual_label.values, (df.model_RF >= 0.25).astype(\"int\").values\n",
    "        )\n",
    "    )\n",
    ")\n",
    "print(\n",
    "    \"Recall RF: %.3f\"\n",
    "    % (\n",
    "        skakovskyi_recall_score(\n",
    "            df.actual_label.values, (df.model_RF >= 0.25).astype(\"int\").values\n",
    "        )\n",
    "    )\n",
    ")\n",
    "print(\n",
    "    \"Precision RF: %.3f\"\n",
    "    % (\n",
    "        skakovskyi_precision_score(\n",
    "            df.actual_label.values, (df.model_RF >= 0.25).astype(\"int\").values\n",
    "        )\n",
    "    )\n",
    ")\n",
    "print(\n",
    "    \"F1 RF: %.3f\"\n",
    "    % (skakovskyi_f1_score(df.actual_label.values, (df.model_RF >= 0.25).astype(\"int\").values))\n",
    ")"
   ]
  },
  {
   "cell_type": "code",
   "execution_count": 16,
   "metadata": {},
   "outputs": [],
   "source": [
    "from sklearn.metrics import roc_curve\n",
    "\n",
    "fpr_RF, tpr_RF, thresholds_RF = roc_curve(df.actual_label.values, df.model_RF.values)\n",
    "fpr_LR, tpr_LR, thresholds_LR = roc_curve(df.actual_label.values, df.model_LR.values)"
   ]
  },
  {
   "cell_type": "code",
   "execution_count": 17,
   "metadata": {},
   "outputs": [
    {
     "data": {
      "image/png": "[encoded data removed]",
      "text/plain": [
       "<Figure size 640x480 with 1 Axes>"
      ]
     },
     "metadata": {},
     "output_type": "display_data"
    }
   ],
   "source": [
    "import matplotlib.pyplot as plt\n",
    "\n",
    "plt.plot(fpr_RF, tpr_RF, \"r-\", label=\"RF\")\n",
    "plt.plot(fpr_LR, tpr_LR, \"b-\", label=\"LR\")\n",
    "plt.plot([0, 1], [0, 1], \"k-\", label=\"random\")\n",
    "plt.plot([0, 0, 1, 1], [0, 1, 1, 1], \"g-\", label=\"perfect\")\n",
    "plt.legend()\n",
    "plt.xlabel(\"False Positive Rate\")\n",
    "plt.ylabel(\"True Positive Rate\")\n",
    "plt.show()"
   ]
  },
  {
   "cell_type": "code",
   "execution_count": 18,
   "metadata": {},
   "outputs": [
    {
     "name": "stdout",
     "output_type": "stream",
     "text": [
      "AUC RF:0.738\n",
      "AUC LR:0.666\n"
     ]
    }
   ],
   "source": [
    "from sklearn.metrics import roc_auc_score\n",
    "\n",
    "auc_RF = roc_auc_score(df.actual_label.values, df.model_RF.values)\n",
    "auc_LR = roc_auc_score(df.actual_label.values, df.model_LR.values)\n",
    "print(\"AUC RF:%.3f\" % auc_RF)\n",
    "print(\"AUC LR:%.3f\" % auc_LR)"
   ]
  },
  {
   "cell_type": "code",
   "execution_count": 19,
   "metadata": {},
   "outputs": [
    {
     "data": {
      "image/png": "[encoded data removed]",
      "text/plain": [
       "<Figure size 640x480 with 1 Axes>"
      ]
     },
     "metadata": {},
     "output_type": "display_data"
    }
   ],
   "source": [
    "import matplotlib.pyplot as plt\n",
    "\n",
    "plt.plot(fpr_RF, tpr_RF, \"r-\", label=\"RF AUC: %.3f\" % auc_RF)\n",
    "plt.plot(fpr_LR, tpr_LR, \"b-\", label=\"LR AUC: %.3f\" % auc_LR)\n",
    "plt.plot([0, 1], [0, 1], \"k-\", label=\"random\")\n",
    "plt.plot([0, 0, 1, 1], [0, 1, 1, 1], \"g-\", label=\"perfect\")\n",
    "plt.legend()\n",
    "plt.xlabel(\"False Positive Rate\")\n",
    "plt.ylabel(\"True Positive Rate\")\n",
    "plt.show()"
   ]
  }
 ],
 "metadata": {
  "kernelspec": {
   "display_name": ".venv",
   "language": "python",
   "name": "python3"
  },
  "language_info": {
   "codemirror_mode": {
    "name": "ipython",
    "version": 3
   },
   "file_extension": ".py",
   "mimetype": "text/x-python",
   "name": "python",
   "nbconvert_exporter": "python",
   "pygments_lexer": "ipython3",
   "version": "3.11.5"
  },
  "orig_nbformat": 4
 },
 "nbformat": 4,
 "nbformat_minor": 2
}
