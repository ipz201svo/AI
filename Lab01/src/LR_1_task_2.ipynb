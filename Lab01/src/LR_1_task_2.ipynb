{
 "cells": [
  {
   "cell_type": "code",
   "execution_count": 1,
   "metadata": {},
   "outputs": [],
   "source": [
    "import numpy as np\n",
    "from sklearn import preprocessing\n",
    "\n",
    "input_data = np.array(\n",
    "    [[1.3, 3.9, 6.2], [4.9, 2.2, -4.3], [-2.6, 6.5, 4.1], [-5.2, -3.4, -5.2]]\n",
    ")"
   ]
  },
  {
   "cell_type": "code",
   "execution_count": 2,
   "metadata": {},
   "outputs": [
    {
     "name": "stdout",
     "output_type": "stream",
     "text": [
      "\n",
      " Binarized data:\n",
      " [[0. 1. 1.]\n",
      " [1. 1. 0.]\n",
      " [0. 1. 1.]\n",
      " [0. 0. 0.]]\n"
     ]
    }
   ],
   "source": [
    "# Бінаризація даних\n",
    "data_binarized = preprocessing.Binarizer(threshold=2.0).transform(input_data)\n",
    "print(\"\\n Binarized data:\\n\", data_binarized)"
   ]
  },
  {
   "cell_type": "code",
   "execution_count": 3,
   "metadata": {},
   "outputs": [
    {
     "name": "stdout",
     "output_type": "stream",
     "text": [
      "\n",
      "BEFORE: \n",
      "Mean = [-0.4  2.3  0.2]\n",
      "Std deviation = [3.83601356 3.62973828 5.01547605]\n",
      "\n",
      "AFTER: \n",
      "Mean = [5.55111512e-17 5.55111512e-17 0.00000000e+00]\n",
      "Std deviation = [1. 1. 1.]\n"
     ]
    }
   ],
   "source": [
    "# Виведення середнього значення та стандартного відхилення\n",
    "\n",
    "print(\"\\nBEFORE: \")\n",
    "print(\"Mean =\", input_data.mean(axis=0))\n",
    "print(\"Std deviation =\", input_data.std(axis=0))\n",
    "\n",
    "# Исключение среднего\n",
    "data_scaled = preprocessing.scale(input_data)\n",
    "print(\"\\nAFTER: \")\n",
    "print(\"Mean =\", data_scaled.mean(axis=0))\n",
    "print(\"Std deviation =\", data_scaled.std(axis=0))"
   ]
  },
  {
   "cell_type": "code",
   "execution_count": 4,
   "metadata": {},
   "outputs": [
    {
     "name": "stdout",
     "output_type": "stream",
     "text": [
      "\n",
      "Мin max scaled data:\n",
      " [[0.64356436 0.73737374 1.        ]\n",
      " [1.         0.56565657 0.07894737]\n",
      " [0.25742574 1.         0.81578947]\n",
      " [0.         0.         0.        ]]\n"
     ]
    }
   ],
   "source": [
    "# Масштабування MinМax\n",
    "data_scaler_minmax = preprocessing.MinMaxScaler(feature_range=(0, 1))\n",
    "data_scaled_minmax = data_scaler_minmax.fit_transform(input_data)\n",
    "print(\"\\nМin max scaled data:\\n\", data_scaled_minmax)"
   ]
  },
  {
   "cell_type": "code",
   "execution_count": 5,
   "metadata": {},
   "outputs": [
    {
     "name": "stdout",
     "output_type": "stream",
     "text": [
      "\n",
      "l1 normalized data:\n",
      " [[ 0.11403509  0.34210526  0.54385965]\n",
      " [ 0.42982456  0.19298246 -0.37719298]\n",
      " [-0.1969697   0.49242424  0.31060606]\n",
      " [-0.37681159 -0.24637681 -0.37681159]]\n",
      "\n",
      "l2 normalized data:\n",
      " [[ 0.17475265  0.52425796  0.83343572]\n",
      " [ 0.71216718  0.31974853 -0.62496303]\n",
      " [-0.32047519  0.80118797  0.50536472]\n",
      " [-0.64182859 -0.41965715 -0.64182859]]\n"
     ]
    }
   ],
   "source": [
    "# Нормалізація даних\n",
    "data_normalized_l1 = preprocessing.normalize(input_data, norm=\"l1\")\n",
    "data_normalized_l2 = preprocessing.normalize(input_data, norm=\"l2\")\n",
    "print(\"\\nl1 normalized data:\\n\", data_normalized_l1)\n",
    "print(\"\\nl2 normalized data:\\n\", data_normalized_l2)"
   ]
  }
 ],
 "metadata": {
  "kernelspec": {
   "display_name": ".venv",
   "language": "python",
   "name": "python3"
  },
  "language_info": {
   "codemirror_mode": {
    "name": "ipython",
    "version": 3
   },
   "file_extension": ".py",
   "mimetype": "text/x-python",
   "name": "python",
   "nbconvert_exporter": "python",
   "pygments_lexer": "ipython3",
   "version": "3.11.5"
  },
  "orig_nbformat": 4
 },
 "nbformat": 4,
 "nbformat_minor": 2
}
