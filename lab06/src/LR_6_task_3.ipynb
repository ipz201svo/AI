{
 "cells": [
  {
   "cell_type": "code",
   "execution_count": 1,
   "metadata": {},
   "outputs": [
    {
     "name": "stdout",
     "output_type": "stream",
     "text": [
      "Test on train samples (must be [0, 1, 2, 3, 4])\n",
      "[0 1 2 3 4]\n",
      "Outputs on recurent cycle:\n",
      "[[0.      0.24    0.48    0.      0.     ]\n",
      " [0.      0.144   0.432   0.      0.     ]\n",
      " [0.      0.0576  0.4032  0.      0.     ]\n",
      " [0.      0.      0.39168 0.      0.     ]]\n",
      "Outputs on test sample:\n",
      "[[0.         0.         0.39168    0.         0.        ]\n",
      " [0.         0.         0.         0.         0.39168   ]\n",
      " [0.07516193 0.         0.         0.         0.07516193]]\n"
     ]
    }
   ],
   "source": [
    "import numpy as np\n",
    "import neurolab as nl\n",
    "\n",
    "target = [[-1, 1, -1, -1, 1, -1, -1, 1, -1],\n",
    "          [1, 1, 1, 1, -1, 1, 1, -1, 1],\n",
    "          [1, -1, 1, 1, 1, 1, 1, -1, 1],\n",
    "          [1, 1, 1, 1, -1, -1, 1, -1, -1],\n",
    "          [-1, -1, -1, -1, 1, -1, -1, -1, -1]]\n",
    "\n",
    "input = [[-1, -1, 1, 1, 1, 1, 1, -1, 1],\n",
    "         [-1, -1, 1, -1, 1, -1, -1, -1, -1],\n",
    "         [-1, -1, -1, -1, 1, -1, -1, 1, -1]]\n",
    "# Створення та тренування нейромережі\n",
    "net = nl.net.newhem(target)\n",
    "\n",
    "output = net.sim(target)\n",
    "print(\"Test on train samples (must be [0, 1, 2, 3, 4])\")\n",
    "print(np.argmax(output, axis=0))\n",
    "\n",
    "output = net.sim([input[0]])\n",
    "print(\"Outputs on recurent cycle:\")\n",
    "print(np.array(net.layers[1].outs))\n",
    "\n",
    "output = net.sim(input)\n",
    "print(\"Outputs on test sample:\")\n",
    "print(output)"
   ]
  }
 ],
 "metadata": {
  "kernelspec": {
   "display_name": ".venv",
   "language": "python",
   "name": "python3"
  },
  "language_info": {
   "codemirror_mode": {
    "name": "ipython",
    "version": 3
   },
   "file_extension": ".py",
   "mimetype": "text/x-python",
   "name": "python",
   "nbconvert_exporter": "python",
   "pygments_lexer": "ipython3",
   "version": "3.11.5"
  }
 },
 "nbformat": 4,
 "nbformat_minor": 2
}
