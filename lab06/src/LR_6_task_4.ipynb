{
 "cells": [
  {
   "cell_type": "code",
   "execution_count": 1,
   "metadata": {},
   "outputs": [
    {
     "name": "stdout",
     "output_type": "stream",
     "text": [
      "Test on train samples:\n",
      "N True\n",
      "E True\n",
      "R True\n",
      "O True\n",
      "\n",
      "Test on defaced E:\n",
      "False Sim. steps 3\n"
     ]
    }
   ],
   "source": [
    "import numpy as np\n",
    "import neurolab as nl\n",
    "\n",
    "target =  [[1, 0, 0, 0, 1,\n",
    "           1, 1, 0, 0, 1,\n",
    "           1, 0, 1, 0, 1,\n",
    "           1, 0, 0, 1, 1,\n",
    "           1, 0, 0, 0, 1],\n",
    "          [1, 1, 1, 1, 1,\n",
    "           1, 0, 0, 0, 0,\n",
    "           1, 1, 1, 1, 1,\n",
    "           1, 0, 0, 0, 0,\n",
    "           1, 1, 1, 1, 1],\n",
    "          [1, 1, 1, 1, 0,\n",
    "           1, 0, 0, 0, 1,\n",
    "           1, 1, 1, 1, 0,\n",
    "           1, 0, 0, 1, 0,\n",
    "           1, 0, 0, 0, 1],\n",
    "          [0, 1, 1, 1, 0,\n",
    "           1, 0, 0, 0, 1,\n",
    "           1, 0, 0, 0, 1,\n",
    "           1, 0, 0, 0, 1,\n",
    "           0, 1, 1, 1, 0]]\n",
    "chars = ['N', 'E', 'R', 'O']\n",
    "target = np.asfarray(target)\n",
    "target[target == 0] = -1\n",
    "net = nl.net.newhop(target)\n",
    "output = net.sim(target)\n",
    "print(\"Test on train samples:\")\n",
    "for i in range(len(target)):\n",
    "    print(chars[i], (output[i] == target[i]).all())\n",
    "\n",
    "print(\"\\nTest on defaced E:\")\n",
    "test =np.asfarray(\n",
    "                  [0, 0, 0, 0, 0,\n",
    "                   0, 1, 1, 1, 1,\n",
    "                   0, 1, 1, 1, 1,\n",
    "                   0, 1, 1, 1, 1,\n",
    "                   0, 0, 0, 0, 0],\n",
    "                  )\n",
    "test[test==0] = -1\n",
    "out = net.sim([test])\n",
    "print ((out[0] == target[1]).all(), 'Sim. steps',len(net.layers[0].outs))\n"
   ]
  }
 ],
 "metadata": {
  "kernelspec": {
   "display_name": ".venv",
   "language": "python",
   "name": "python3"
  },
  "language_info": {
   "codemirror_mode": {
    "name": "ipython",
    "version": 3
   },
   "file_extension": ".py",
   "mimetype": "text/x-python",
   "name": "python",
   "nbconvert_exporter": "python",
   "pygments_lexer": "ipython3",
   "version": "3.11.5"
  }
 },
 "nbformat": 4,
 "nbformat_minor": 2
}
