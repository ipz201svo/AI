{
 "cells": [
  {
   "cell_type": "code",
   "execution_count": 25,
   "metadata": {},
   "outputs": [],
   "source": [
    "import numpy as np\n",
    "from sklearn import preprocessing\n",
    "from sklearn.svm import LinearSVC, SVC\n",
    "from sklearn.multiclass import OneVsOneClassifier\n",
    "from sklearn.model_selection import train_test_split, cross_val_score\n",
    "\n",
    "import warnings\n",
    "warnings.filterwarnings(\"ignore\")"
   ]
  },
  {
   "cell_type": "code",
   "execution_count": 26,
   "metadata": {},
   "outputs": [],
   "source": [
    "# Вхідний файл, який містить дані\n",
    "input_file = \"income_data.txt\"\n",
    "# Читання даних\n",
    "X = []\n",
    "y = []\n",
    "count_class1 = 0\n",
    "count_class2 = 0\n",
    "max_datapoints = 25000\n",
    "\n",
    "with open(input_file, \"r\") as f:\n",
    "    for line in f.readlines():\n",
    "        if count_class1 >= max_datapoints and count_class2 >= max_datapoints:\n",
    "            break\n",
    "\n",
    "        if \"?\" in line:\n",
    "            continue\n",
    "\n",
    "        data = line[:-1].split(\", \")\n",
    "\n",
    "        if data[-1] == \"<=50K\" and count_class1 < max_datapoints:\n",
    "            X.append(data)\n",
    "            count_class1 += 1\n",
    "\n",
    "        if data[-1] == \">50K\" and count_class2 < max_datapoints:\n",
    "            X.append(data)\n",
    "            count_class2 += 1"
   ]
  },
  {
   "cell_type": "code",
   "execution_count": 27,
   "metadata": {},
   "outputs": [],
   "source": [
    "X = np.array(X)\n",
    "# Перетворення рядкових даних на числові\n",
    "label_encoder = []\n",
    "X_encoded = np.empty(X.shape)\n",
    "for i, item in enumerate(X[0]):\n",
    "    if item.isdigit():\n",
    "        X_encoded[:, i] = X[:, i]\n",
    "    else:\n",
    "        label_encoder.append(preprocessing.LabelEncoder())\n",
    "        X_encoded[:, i] = label_encoder[-1].fit_transform(X[:, i])\n",
    "\n",
    "X = X_encoded[:, :-1].astype(int)\n",
    "y = X_encoded[:, -1].astype(int)\n"
   ]
  },
  {
   "cell_type": "code",
   "execution_count": 28,
   "metadata": {},
   "outputs": [],
   "source": [
    "# classifier = OneVsOneClassifier(LinearSVC(random_state=0))\n",
    "# classifier = OneVsOneClassifier(SVC(kernel=\"poly\", degree=8))\n",
    "classifier = OneVsOneClassifier(SVC(kernel=\"rbf\"))\n",
    "#classifier = OneVsOneClassifier(SVC(kernel='sigmoid'))\n",
    "\n",
    "# Навчання класифікатора\n",
    "classifier.fit(X, y)\n",
    "X_train, X_test, y_train, y_test = train_test_split(X, y, test_size=0.2, random_state=5)\n",
    "classifier = OneVsOneClassifier(LinearSVC(random_state=0))\n",
    "classifier.fit(X_train, y_train)\n",
    "y_test_pred = classifier.predict(X_test)"
   ]
  },
  {
   "cell_type": "code",
   "execution_count": 29,
   "metadata": {},
   "outputs": [],
   "source": [
    "# Передбачення результату для тестової точки даних\n",
    "input_data = [\n",
    "    \"37\",\n",
    "    \"Private\",\n",
    "    \"215646\",\n",
    "    \"HS-grad\",\n",
    "    \"9\",\n",
    "    \"Never-married\",\n",
    "    \"Handlers-cleaners\",\n",
    "    \"Not-in-family\",\n",
    "    \"White\",\n",
    "    \"Male\",\n",
    "    \"0\",\n",
    "    \"0\",\n",
    "    \"40\",\n",
    "    \"United-States\",\n",
    "]\n",
    "# Кодування тестової точки даних\n",
    "input_data_encoded = [-1] * len(input_data)\n",
    "count = 0\n",
    "\n",
    "for i, item in enumerate(input_data):\n",
    "    if item.isdigit():\n",
    "        input_data_encoded[i] = int(input_data[i])\n",
    "    else:\n",
    "        transformed_value = label_encoder[count].transform([input_data[i]])[0]\n",
    "        input_data_encoded[i] = int(transformed_value)\n",
    "        count = count + 1\n",
    "\n",
    "input_data_encoded = np.array(input_data_encoded).reshape(1, -1)"
   ]
  },
  {
   "cell_type": "code",
   "execution_count": 30,
   "metadata": {},
   "outputs": [
    {
     "name": "stdout",
     "output_type": "stream",
     "text": [
      "F1 score: 56.15%\n",
      "<=50K\n",
      "Accuracy: 62.64%\n",
      "Recall: 62.64%\n",
      "Precision: 75.88%\n"
     ]
    }
   ],
   "source": [
    "# Використання класифікатора для кодованої точки даних\n",
    "# та виведення результату\n",
    "\n",
    "# Обчислення F-міри для SVМ-класифікатора\n",
    "f1 = cross_val_score(classifier, X, y, scoring=\"f1_weighted\", cv=3)\n",
    "print(\"F1 score: \" + str(round(100 * f1.mean(), 2)) + \"%\")\n",
    "\n",
    "predicted_class = classifier.predict(input_data_encoded)\n",
    "print(label_encoder[-1].inverse_transform(predicted_class)[0])\n",
    "num_folds = 3\n",
    "\n",
    "accuracy_values = cross_val_score(classifier, X, y, scoring=\"accuracy\", cv=num_folds)\n",
    "print(\"Accuracy: \" + str(round(100 * accuracy_values.mean(), 2)) + \"%\")\n",
    "\n",
    "recall_values = cross_val_score(\n",
    "    classifier, X, y, scoring=\"recall_weighted\", cv=num_folds\n",
    ")\n",
    "print(\"Recall: \" + str(round(100 * recall_values.mean(), 2)) + \"%\")\n",
    "\n",
    "precision_values = cross_val_score(\n",
    "    classifier, X, y, scoring=\"precision_weighted\", cv=num_folds\n",
    ")\n",
    "print(\"Precision: \" + str(round(100 * precision_values.mean(), 2)) + \"%\")"
   ]
  }
 ],
 "metadata": {
  "kernelspec": {
   "display_name": ".venv",
   "language": "python",
   "name": "python3"
  },
  "language_info": {
   "codemirror_mode": {
    "name": "ipython",
    "version": 3
   },
   "file_extension": ".py",
   "mimetype": "text/x-python",
   "name": "python",
   "nbconvert_exporter": "python",
   "pygments_lexer": "ipython3",
   "version": "3.11.5"
  },
  "orig_nbformat": 4
 },
 "nbformat": 4,
 "nbformat_minor": 2
}
