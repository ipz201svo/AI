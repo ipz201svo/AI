{
 "cells": [
  {
   "cell_type": "code",
   "execution_count": 2,
   "metadata": {},
   "outputs": [],
   "source": [
    "import numpy as np\n",
    "from sklearn import preprocessing\n",
    "from matplotlib import pyplot\n",
    "from sklearn.model_selection import train_test_split\n",
    "from sklearn.model_selection import cross_val_score\n",
    "from sklearn.model_selection import StratifiedKFold\n",
    "from sklearn.linear_model import LogisticRegression\n",
    "from sklearn.tree import DecisionTreeClassifier\n",
    "from sklearn.neighbors import KNeighborsClassifier\n",
    "from sklearn.discriminant_analysis import LinearDiscriminantAnalysis\n",
    "from sklearn.naive_bayes import GaussianNB\n",
    "from sklearn.svm import SVC\n",
    "\n",
    "\n",
    "import warnings\n",
    "warnings.filterwarnings(\"ignore\")"
   ]
  },
  {
   "cell_type": "code",
   "execution_count": 3,
   "metadata": {},
   "outputs": [],
   "source": [
    "# Вхідний файл, який містить дані\n",
    "input_file = \"income_data.txt\"\n",
    "# Читання даних\n",
    "X = []\n",
    "y = []\n",
    "count_class1 = 0\n",
    "count_class2 = 0\n",
    "max_datapoints = 25000\n",
    "\n",
    "with open(input_file, \"r\") as f:\n",
    "    for line in f.readlines():\n",
    "        if count_class1 >= max_datapoints and count_class2 >= max_datapoints:\n",
    "            break\n",
    "\n",
    "        if \"?\" in line:\n",
    "            continue\n",
    "\n",
    "        data = line[:-1].split(\", \")\n",
    "\n",
    "        if data[-1] == \"<=50K\" and count_class1 < max_datapoints:\n",
    "            X.append(data)\n",
    "            count_class1 += 1\n",
    "\n",
    "        if data[-1] == \">50K\" and count_class2 < max_datapoints:\n",
    "            X.append(data)\n",
    "            count_class2 += 1"
   ]
  },
  {
   "cell_type": "code",
   "execution_count": 4,
   "metadata": {},
   "outputs": [],
   "source": [
    "X = np.array(X)\n",
    "# Перетворення рядкових даних на числові\n",
    "label_encoder = []\n",
    "X_encoded = np.empty(X.shape)\n",
    "for i, item in enumerate(X[0]):\n",
    "    if item.isdigit():\n",
    "        X_encoded[:, i] = X[:, i]\n",
    "    else:\n",
    "        label_encoder.append(preprocessing.LabelEncoder())\n",
    "        X_encoded[:, i] = label_encoder[-1].fit_transform(X[:, i])\n",
    "\n",
    "X = X_encoded[:, :-1].astype(int)\n",
    "y = X_encoded[:, -1].astype(int)\n"
   ]
  },
  {
   "cell_type": "code",
   "execution_count": 5,
   "metadata": {},
   "outputs": [
    {
     "name": "stdout",
     "output_type": "stream",
     "text": [
      "LR: \n",
      "F1 score: 75.66%\n",
      "Accuracy: 78.85%\n",
      "Recall: 78.85%\n",
      "Precision: 77.03%\n",
      "\n",
      "LDA: \n",
      "F1 score: 79.35%\n",
      "Accuracy: 81.14%\n",
      "Recall: 81.14%\n",
      "Precision: 79.86%\n",
      "\n",
      "KNN: \n",
      "F1 score: 74.16%\n",
      "Accuracy: 76.67%\n",
      "Recall: 76.67%\n",
      "Precision: 73.99%\n",
      "\n",
      "CART: \n",
      "F1 score: 80.69%\n",
      "Accuracy: 80.62%\n",
      "Recall: 80.71%\n",
      "Precision: 80.91%\n",
      "\n",
      "NB: \n",
      "F1 score: 75.89%\n",
      "Accuracy: 78.87%\n",
      "Recall: 78.87%\n",
      "Precision: 76.97%\n",
      "\n",
      "SVM: \n",
      "F1 score: 64.52%\n",
      "Accuracy: 75.1%\n",
      "Recall: 75.1%\n",
      "Precision: 68.18%\n",
      "\n"
     ]
    },
    {
     "data": {
      "image/png": "[encoded data removed]",
      "text/plain": [
       "<Figure size 640x480 with 1 Axes>"
      ]
     },
     "metadata": {},
     "output_type": "display_data"
    }
   ],
   "source": [
    "X_train, X_test, y_train, y_test = train_test_split(X, y, test_size=0.2, random_state=5)\n",
    "\n",
    "# Завантажуємо алгоритми моделі\n",
    "models = []\n",
    "models.append(('LR', LogisticRegression(solver='liblinear', multi_class='ovr')))\n",
    "models.append(('LDA', LinearDiscriminantAnalysis()))\n",
    "models.append(('KNN', KNeighborsClassifier()))\n",
    "models.append(('CART', DecisionTreeClassifier()))\n",
    "models.append(('NB', GaussianNB()))\n",
    "models.append(('SVM', SVC(gamma='auto')))\n",
    "\n",
    "\n",
    "# оцінюємо модель на кожній ітерації\n",
    "results = []\n",
    "names = []\n",
    "for name, model in models:\n",
    "    kfold = StratifiedKFold(n_splits=10, random_state=1, shuffle=True)\n",
    "    print('%s: ' % name)\n",
    "    f1 = cross_val_score(model, X, y, scoring='f1_weighted', cv=3)\n",
    "    print(\"F1 score: \" + str(round(100 * f1.mean(), 2)) + \"%\")\n",
    "    accuracy_values = cross_val_score(model, X, y, scoring='accuracy', cv=3)\n",
    "    print(\"Accuracy: \" + str(round(100 * accuracy_values.mean(), 2)) + \"%\")\n",
    "    recall_values = cross_val_score(model, X, y, scoring='recall_weighted', cv=3)\n",
    "    print(\"Recall: \" + str(round(100 * recall_values.mean(), 2)) + \"%\")\n",
    "    precision_values = cross_val_score(model, X, y, scoring='precision_weighted', \n",
    "    cv=3)\n",
    "    print(\"Precision: \" + str(round(100 * precision_values.mean(), 2)) + \"%\")\n",
    "    results.append(f1)\n",
    "    names.append(name)\n",
    "    print()\n",
    "# Порівняння алгоритмів\n",
    "pyplot.boxplot(results, labels=names)\n",
    "pyplot.title('Algorithm Comparison')\n",
    "pyplot.show()"
   ]
  }
 ],
 "metadata": {
  "kernelspec": {
   "display_name": ".venv",
   "language": "python",
   "name": "python3"
  },
  "language_info": {
   "codemirror_mode": {
    "name": "ipython",
    "version": 3
   },
   "file_extension": ".py",
   "mimetype": "text/x-python",
   "name": "python",
   "nbconvert_exporter": "python",
   "pygments_lexer": "ipython3",
   "version": "3.11.5"
  },
  "orig_nbformat": 4
 },
 "nbformat": 4,
 "nbformat_minor": 2
}
