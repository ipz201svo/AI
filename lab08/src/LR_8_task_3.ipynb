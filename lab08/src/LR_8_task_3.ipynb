{
 "cells": [
  {
   "cell_type": "code",
   "execution_count": 27,
   "metadata": {},
   "outputs": [
    {
     "name": "stdout",
     "output_type": "stream",
     "text": [
      "(1280, 959, 3)\n",
      "(1000, 500, 3)\n"
     ]
    },
    {
     "data": {
      "text/plain": [
       "-1"
      ]
     },
     "execution_count": 27,
     "metadata": {},
     "output_type": "execute_result"
    }
   ],
   "source": [
    "import cv2\n",
    "import numpy as np\n",
    "\n",
    "img = cv2.imread(\"skakovskyi.jpg\")\n",
    "print(img.shape)\n",
    "imgResize = cv2.resize(img, (500, 1000))\n",
    "print(imgResize.shape)\n",
    "imgCropped = img[350:900, 250:650]\n",
    "cv2.imshow(\"Image\", img)\n",
    "# cv2.imshow(\"Image Resize\",imgResize)\n",
    "cv2.imshow(\"Image Cropped\", imgCropped)\n",
    "cv2.waitKey(0)"
   ]
  }
 ],
 "metadata": {
  "kernelspec": {
   "display_name": ".venv",
   "language": "python",
   "name": "python3"
  },
  "language_info": {
   "codemirror_mode": {
    "name": "ipython",
    "version": 3
   },
   "file_extension": ".py",
   "mimetype": "text/x-python",
   "name": "python",
   "nbconvert_exporter": "python",
   "pygments_lexer": "ipython3",
   "version": "3.11.7"
  }
 },
 "nbformat": 4,
 "nbformat_minor": 2
}
